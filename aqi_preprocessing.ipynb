{
 "cells": [
  {
   "cell_type": "code",
   "execution_count": 1,
   "id": "4ccc6d49",
   "metadata": {},
   "outputs": [],
   "source": [
    "import os\n",
    "\n",
    "import numpy as np\n",
    "import pandas as pd"
   ]
  },
  {
   "cell_type": "code",
   "execution_count": 2,
   "id": "ac016081",
   "metadata": {},
   "outputs": [],
   "source": [
    "class AqiPreprocessing:\n",
    "    def preprocess(self, filenames: list) -> dict:\n",
    "        yearly_dict = {}\n",
    "        for name in filenames:\n",
    "            print(f\"Preprocessing {name}\")\n",
    "            day_average_list = []\n",
    "            for rows in pd.read_csv(name, chunksize=24):\n",
    "                day_total = 0\n",
    "                day_data = []\n",
    "                df = pd.DataFrame(data=rows)\n",
    "                for index, row in df.iterrows():\n",
    "                    day_data.append(row['PM2.5'])\n",
    "                hour_count = 0\n",
    "                for val in day_data:\n",
    "                    if type(val) is float or type(val) is int:\n",
    "                        day_total = day_total + val\n",
    "                        hour_count = hour_count + 1\n",
    "                    elif type(val) is str:\n",
    "                        val = val.strip()\n",
    "                       \n",
    "                        if val != 'NoData' and val != 'PwrFail' and val != '---' and val != 'InVld':\n",
    "                            temp = float(val)\n",
    "                            \n",
    "                            day_total = day_total + temp\n",
    "                            hour_count = hour_count + 1\n",
    "                day_avg = (day_total / hour_count) if (day_total > 0) else 0\n",
    "                day_average_list.append(day_avg)\n",
    "                yearly_dict[name] = day_average_list\n",
    "        return yearly_dict\n",
    "    \n",
    "    def clean_combined_data(self, combined_data: pd.DataFrame) -> pd.DataFrame:\n",
    "        combined_data = combined_data.replace('', np.nan)\n",
    "        combined_data.dropna(how='any', inplace=True)\n",
    "        return combined_data\n",
    "    \n",
    "    def save_combined_data(self, combined_data: pd.DataFrame, folder_name: str, file_name: str) -> None:\n",
    "        if not os.path.exists(folder_name):\n",
    "            os.makedirs(folder_name)\n",
    "        combined_data.to_csv(f'{folder_name}/{file_name}', index=None)"
   ]
  },
  {
   "cell_type": "code",
   "execution_count": null,
   "id": "b8202046",
   "metadata": {},
   "outputs": [],
   "source": []
  }
 ],
 "metadata": {
  "kernelspec": {
   "display_name": "Python 3 (ipykernel)",
   "language": "python",
   "name": "python3"
  },
  "language_info": {
   "codemirror_mode": {
    "name": "ipython",
    "version": 3
   },
   "file_extension": ".py",
   "mimetype": "text/x-python",
   "name": "python",
   "nbconvert_exporter": "python",
   "pygments_lexer": "ipython3",
   "version": "3.10.6"
  }
 },
 "nbformat": 4,
 "nbformat_minor": 5
}
