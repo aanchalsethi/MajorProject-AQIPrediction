{
 "cells": [
  {
   "cell_type": "code",
   "execution_count": 3,
   "id": "59b18336",
   "metadata": {},
   "outputs": [],
   "source": [
    "import os\n",
    "import sys\n",
    "\n",
    "import pandas as pd\n",
    "import requests\n",
    "from bs4 import BeautifulSoup"
   ]
  },
  {
   "cell_type": "code",
   "execution_count": 4,
   "id": "059977e7",
   "metadata": {},
   "outputs": [],
   "source": [
    "class WebScrapper:\n",
    "    def retrieve_html_for_years(self, years_range: list) -> None:\n",
    "        for year in years_range:\n",
    "            for month in range(1, 13):  # loop over 1 to 12 as month numbers\n",
    "                url = f'http://en.tutiempo.net/climate/{month:02d}-{year}/ws-432950.html'\n",
    "                texts = requests.get(url)\n",
    "                texts.encoding = 'utf-8'\n",
    "                folder_name = f\"data/html_data/{year}\"\n",
    "                if not os.path.exists(folder_name):\n",
    "                    os.makedirs(folder_name)\n",
    "                print(f\"Saving {month}-{year}.html\")\n",
    "                with open(f'{folder_name}/{month}-{year}.html', \"wb\") as output:\n",
    "                    output.write(texts.content)\n",
    "                sys.stdout.flush()\n",
    "\n",
    "    def parse_html_for_years(self, years_range: list) -> pd.DataFrame:\n",
    "        final_data_df = pd.DataFrame()\n",
    "        for year in years_range:\n",
    "            for month in range(1, 13):\n",
    "                file_html = open(f'data/html_data/{year}/{month}-{year}.html', 'rb')\n",
    "                plain_text = file_html.read()\n",
    "\n",
    "                final_data = []\n",
    "                soup = BeautifulSoup(plain_text, \"lxml\")\n",
    "                for table in soup.findAll('table', {'class': 'medias mensuales numspan'}):\n",
    "                    for tr in table:\n",
    "                        temp_data = []\n",
    "                        for td in tr:\n",
    "                            text = td.get_text()\n",
    "                            temp_data.append(text)\n",
    "                        final_data.append(temp_data)\n",
    "\n",
    "                # skip header rows and 2 footer rows\n",
    "                monthly_data_df = pd.DataFrame(final_data[1:len(final_data) - 2], columns=final_data[0])\n",
    "                # drop unnecessary columns\n",
    "                col_idx_to_drop = [0, 4, 10, 11, 12, 13, 14]\n",
    "                for col in reversed(col_idx_to_drop):\n",
    "                    monthly_data_df.drop(monthly_data_df.columns[col], axis=1, inplace=True)\n",
    "                final_data_df = final_data_df.append(monthly_data_df)\n",
    "        final_data_df.reset_index(inplace=True, drop=True)\n",
    "        return final_data_df\n",
    "\n",
    "    def combine_features_with_target(self, features: pd.DataFrame, yearly_dict: dict) -> pd.DataFrame:\n",
    "        pm_2_5_data = []\n",
    "        for year in yearly_dict.keys():\n",
    "            for idx, rows in enumerate(yearly_dict[year]):\n",
    "                pm_2_5_data.append(yearly_dict[year][idx])\n",
    "        pm_2_5_data.append(108.0)\n",
    "        features['PM_2_5'] = pm_2_5_data\n",
    "\n",
    "        return features\n"
   ]
  },
  {
   "cell_type": "code",
   "execution_count": null,
   "id": "242b73a2",
   "metadata": {},
   "outputs": [],
   "source": []
  }
 ],
 "metadata": {
  "kernelspec": {
   "display_name": "Python 3 (ipykernel)",
   "language": "python",
   "name": "python3"
  },
  "language_info": {
   "codemirror_mode": {
    "name": "ipython",
    "version": 3
   },
   "file_extension": ".py",
   "mimetype": "text/x-python",
   "name": "python",
   "nbconvert_exporter": "python",
   "pygments_lexer": "ipython3",
   "version": "3.10.6"
  }
 },
 "nbformat": 4,
 "nbformat_minor": 5
}
